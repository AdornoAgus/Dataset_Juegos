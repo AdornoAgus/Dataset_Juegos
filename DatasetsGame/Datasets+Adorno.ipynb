{
 "cells": [
  {
   "cell_type": "code",
   "execution_count": 10,
   "id": "5699f0cb",
   "metadata": {},
   "outputs": [
    {
     "name": "stdout",
     "output_type": "stream",
     "text": [
      "<class 'pandas.core.frame.DataFrame'>\n",
      "RangeIndex: 20718 entries, 0 to 20717\n",
      "Data columns (total 28 columns):\n",
      " #   Column            Non-Null Count  Dtype  \n",
      "---  ------            --------------  -----  \n",
      " 0   Unnamed: 0        20718 non-null  int64  \n",
      " 1   Artist            20718 non-null  object \n",
      " 2   Url_spotify       20718 non-null  object \n",
      " 3   Track             20718 non-null  object \n",
      " 4   Album             20718 non-null  object \n",
      " 5   Album_type        20718 non-null  object \n",
      " 6   Uri               20718 non-null  object \n",
      " 7   Danceability      20716 non-null  float64\n",
      " 8   Energy            20716 non-null  float64\n",
      " 9   Key               20716 non-null  float64\n",
      " 10  Loudness          20716 non-null  float64\n",
      " 11  Speechiness       20716 non-null  float64\n",
      " 12  Acousticness      20716 non-null  float64\n",
      " 13  Instrumentalness  20716 non-null  float64\n",
      " 14  Liveness          20716 non-null  float64\n",
      " 15  Valence           20716 non-null  float64\n",
      " 16  Tempo             20716 non-null  float64\n",
      " 17  Duration_ms       20716 non-null  float64\n",
      " 18  Url_youtube       20248 non-null  object \n",
      " 19  Title             20248 non-null  object \n",
      " 20  Channel           20248 non-null  object \n",
      " 21  Views             20248 non-null  float64\n",
      " 22  Likes             20177 non-null  float64\n",
      " 23  Comments          20149 non-null  float64\n",
      " 24  Description       19842 non-null  object \n",
      " 25  Licensed          20248 non-null  object \n",
      " 26  official_video    20248 non-null  object \n",
      " 27  Stream            20142 non-null  float64\n",
      "dtypes: float64(15), int64(1), object(12)\n",
      "memory usage: 4.4+ MB\n"
     ]
    }
   ],
   "source": [
    "import pandas as pd\n",
    "\n",
    "#Dataset spotify_youtube ranking de canciones de spotify y sus videos de youtube\n",
    "\n",
    "#Link dataset:https://www.kaggle.com/datasets/salvatorerastelli/spotify-and-youtube\n",
    "\n",
    "\"\"\"Este dataset se puede utilizar para analizar el porque ciertas canciones o bandas logran estar dentro del top \n",
    "y como mantiene esos numeros a lo largo del tiempo.\n",
    "-\n",
    "\n",
    "\n",
    "\n",
    "\n",
    "\"\"\"\n",
    "\n",
    "url = r\"C:\\Users\\Admin\\Desktop\\DATA SCIENCE\\archive\\Spotify_Youtube.csv\"\n",
    "\n",
    "DATA = pd.read_csv(url)\n",
    "\n",
    "DATA.info()"
   ]
  },
  {
   "cell_type": "code",
   "execution_count": 17,
   "id": "e6321e6b",
   "metadata": {},
   "outputs": [
    {
     "name": "stdout",
     "output_type": "stream",
     "text": [
      "<class 'pandas.core.frame.DataFrame'>\n",
      "RangeIndex: 4822 entries, 0 to 4821\n",
      "Columns: 344 entries, title to twitter_followers\n",
      "dtypes: float64(42), int64(9), object(293)\n",
      "memory usage: 12.7+ MB\n"
     ]
    },
    {
     "name": "stderr",
     "output_type": "stream",
     "text": [
      "C:\\Users\\Admin\\AppData\\Local\\Temp\\ipykernel_4960\\2674882420.py:11: DtypeWarning: Columns (17,23,25,30,33,34,42,45,47,48,49,50,51,52,53,56,57,59,60,62,64,71,73,74,75,76,78,79,80,81,82,83,84,85,86,88,89,90,92,93,94,95,96,97,98,99,100,101,102,103,105,107,108,109,110,111,112,113,114,115,117,118,119,120,121,124,125,126,127,128,129,131,132,133,136,137,138,139,140,141,142,147,148,149,150,152,153,154,155,156,157,158,159,160,161,162,163,164,165,166,167,168,169,170,171,172,173,176,177,178,179,180,181,182,183,184,185,186,188,189,190,191,194,195,196,197,198,199,200,201,202,203,204,205,206,207,208,209,210,211,212,213,214,215,216,217,218,219,220,221,222,223,224,225,226,227,228,229,230,231,232,233,234,235,236,237,238,239,240,241,242,243,244,245,246,248,249,250,251,252,253,254,255,256,257,258,259,260,261,262,263,264,265,266,267,268,269,270,271,272,273,274,275,276,277,278,279,280,281,282,283,284,285,286,287,288,289,290,291,292,293,294,295,296,297,298,299,300,301,302,303,304,305,306,307,308,309,310,311,312,313,314,315,316,317,318,319,320,321,322,323,324,325,326,327,328,329,330,331,332,333,334,335,336,337,338,339) have mixed types. Specify dtype option on import or set low_memory=False.\n",
      "  DATA1 = pd.read_csv(url1)\n"
     ]
    }
   ],
   "source": [
    "import pandas as pd\n",
    "\n",
    "\n",
    "#Dataset sobre lenguajes de programacion\n",
    "\n",
    "\"\"\"En este datase se encuentran todos los lenguajes de programacion que existen ,desde 1957 hasta el siglo 21, \n",
    "y se puede investigar acerca de su uso en la actualidad o bien las funciones que cada lenguaje posee\"\"\"\n",
    "\n",
    "url1 = \"https://pldb.com/pldb.csv\"\n",
    "\n",
    "DATA1 = pd.read_csv(url1)\n",
    "\n",
    "DATA1.info()"
   ]
  },
  {
   "cell_type": "code",
   "execution_count": 11,
   "id": "afef53d8",
   "metadata": {},
   "outputs": [
    {
     "name": "stdout",
     "output_type": "stream",
     "text": [
      "<class 'pandas.core.frame.DataFrame'>\n",
      "RangeIndex: 16719 entries, 0 to 16718\n",
      "Data columns (total 16 columns):\n",
      " #   Column           Non-Null Count  Dtype  \n",
      "---  ------           --------------  -----  \n",
      " 0   Name             16717 non-null  object \n",
      " 1   Platform         16719 non-null  object \n",
      " 2   Year_of_Release  16450 non-null  float64\n",
      " 3   Genre            16717 non-null  object \n",
      " 4   Publisher        16665 non-null  object \n",
      " 5   NA_Sales         16719 non-null  float64\n",
      " 6   EU_Sales         16719 non-null  float64\n",
      " 7   JP_Sales         16719 non-null  float64\n",
      " 8   Other_Sales      16719 non-null  float64\n",
      " 9   Global_Sales     16719 non-null  float64\n",
      " 10  Critic_Score     8137 non-null   float64\n",
      " 11  Critic_Count     8137 non-null   float64\n",
      " 12  User_Score       10015 non-null  object \n",
      " 13  User_Count       7590 non-null   float64\n",
      " 14  Developer        10096 non-null  object \n",
      " 15  Rating           9950 non-null   object \n",
      "dtypes: float64(9), object(7)\n",
      "memory usage: 2.0+ MB\n"
     ]
    }
   ],
   "source": [
    "#Dataset sobre lenguajes de programacion\n",
    "\n",
    "#Link dataset:https://www.kaggle.com/datasets/ibriiee/video-games-sales-dataset-2022-updated-extra-feat?select=Video_Games.csv\n",
    "\"\"\"\n",
    "Este dataset guarda informacion de mas de 15mil juegos donde se pueden comparar \n",
    "entre generos, plataforma del juego, criticas y ventas en 3 locasiones diferentes.\n",
    "\n",
    "\n",
    "\"\n",
    "url3 = r\"C:\\Users\\Admin\\Desktop\\DATA SCIENCE\\DatasetsGame\\Video_Games.csv\"\n",
    "\n",
    "DATA2 = pd.read_csv(url3)\n",
    "\n",
    "DATA2.info()"
   ]
  }
 ],
 "metadata": {
  "kernelspec": {
   "display_name": "Python 3 (ipykernel)",
   "language": "python",
   "name": "python3"
  },
  "language_info": {
   "codemirror_mode": {
    "name": "ipython",
    "version": 3
   },
   "file_extension": ".py",
   "mimetype": "text/x-python",
   "name": "python",
   "nbconvert_exporter": "python",
   "pygments_lexer": "ipython3",
   "version": "3.10.9"
  }
 },
 "nbformat": 4,
 "nbformat_minor": 5
}
